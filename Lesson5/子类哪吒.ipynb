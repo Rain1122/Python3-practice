{
 "cells": [
  {
   "cell_type": "markdown",
   "metadata": {},
   "source": [
    "2. 练习会先提供一个李靖类，用以记录人物角色的战斗力。需要你创建一个子类哪吒类，提供属性和参数的修改。  \n",
    "要求： 在哪吒的初始化方法中，默认添加`['混天绫', '乾坤圈']` 两个装备,以及初始化战斗力为50."
   ]
  },
  {
   "cell_type": "code",
   "execution_count": null,
   "metadata": {},
   "outputs": [],
   "source": [
    "# 代码不用修改，读懂后运行即可。\n",
    "class Lijing: # 李靖\n",
    "    # 初始化函数，为每个实例创建4个参数（其中后3个参数有默认值）\n",
    "    def __init__(self, name, weapons=[], power=10): \n",
    "        self.name = name\n",
    "        self.weapons = weapons\n",
    "        self.power = power\n",
    "\n",
    "    def count_fight(self, weapon, weapon_power):\n",
    "        self.weapons.append(weapon)\n",
    "        self.power += weapon_power  # 总战力=武器战力之和\n",
    "        \n",
    "        \n",
    "class nezha(Lijing):\n",
    "    def __init__(self, name='哪吒', weapons=[], power=50):\n",
    "        self.name = name\n",
    "        self.weapons = weapons\n",
    "        self.power = power\n",
    "        \n",
    "    def count_fight(self, weapon='混天绫', weapon_power=0):\n",
    "        self.weapons.append('乾坤圈')\n",
    "        self.weapons.append(weapon)\n",
    "        self.power += weapon_power\n",
    "\n",
    "lijing = Lijing('李靖')\n",
    "print(lijing.weapons)\n",
    "lijing.count_fight('七宝玲珑塔', 50)  # 七宝玲珑塔 战力 50\n",
    "print(lijing.power)\n",
    "\n",
    "nezha1 = nezha()\n",
    "nezha1.count_fight()\n",
    "print(nezha1.weapons)\n",
    "print(nezha1.power)"
   ]
  }
 ],
 "metadata": {
  "kernelspec": {
   "display_name": "Python 3",
   "language": "python",
   "name": "python3"
  },
  "language_info": {
   "codemirror_mode": {
    "name": "ipython",
    "version": 3
   },
   "file_extension": ".py",
   "mimetype": "text/x-python",
   "name": "python",
   "nbconvert_exporter": "python",
   "pygments_lexer": "ipython3",
   "version": "3.6.5"
  }
 },
 "nbformat": 4,
 "nbformat_minor": 2
}
