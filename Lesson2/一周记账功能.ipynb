{
 "cells": [
  {
   "cell_type": "code",
   "execution_count": null,
   "metadata": {},
   "outputs": [],
   "source": [
    "income = []\n",
    "outcome = []\n",
    "deposit = 0\n",
    "\n",
    "for i in range(7):\n",
    "    inaccount = input(\"第\"+str(i+1)+\"天收入为：\")\n",
    "    income.append(int(inaccount))\n",
    "    \n",
    "for i in range(7):\n",
    "    outaccount = input(\"第\"+str(i+1)+\"天支出为：\")\n",
    "    outcome.append(int(outaccount))\n",
    "    \n",
    "print(\"7天的收入为：\")\n",
    "for i in range(7):\n",
    "    print(income[i])\n",
    "    \n",
    "print(\"7天的支出为：\")\n",
    "for i in range(7):\n",
    "    print(outcome[i])\n",
    "    \n",
    "print(\"7天的收支结余：\")\n",
    "for i in range(7):\n",
    "    count = income[i]-outcome[i]\n",
    "    print(\"第\", i+1, \"天结余为：\", count)\n",
    "    deposit += count\n",
    "    \n",
    "print(\"最终结余为：\",deposit)"
   ]
  }
 ],
 "metadata": {
  "kernelspec": {
   "display_name": "Python 3",
   "language": "python",
   "name": "python3"
  },
  "language_info": {
   "codemirror_mode": {
    "name": "ipython",
    "version": 3
   },
   "file_extension": ".py",
   "mimetype": "text/x-python",
   "name": "python",
   "nbconvert_exporter": "python",
   "pygments_lexer": "ipython3",
   "version": "3.6.5"
  }
 },
 "nbformat": 4,
 "nbformat_minor": 2
}
