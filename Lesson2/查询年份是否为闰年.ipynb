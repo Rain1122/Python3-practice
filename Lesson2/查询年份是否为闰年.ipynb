{
 "cells": [
  {
   "cell_type": "code",
   "execution_count": 3,
   "metadata": {},
   "outputs": [
    {
     "name": "stdout",
     "output_type": "stream",
     "text": [
      "请输入年份：0\n",
      "已退出！\n"
     ]
    }
   ],
   "source": [
    "year = 1\n",
    "while int(year) != 0:\n",
    "    year = input(\"请输入年份：\")\n",
    "    try:\n",
    "        if int(year) == 0:\n",
    "            int(year) == 0\n",
    "        elif int(year)%4 == 0:\n",
    "            print(\"该年是闰年,退出请输入0\")\n",
    "        else:\n",
    "            print(\"该年不是闰年，退出请输入0\")\n",
    "    except:\n",
    "        print(\"你输入的不是年份，退出请输入0\")\n",
    "print(\"已退出！\")"
   ]
  },
  {
   "cell_type": "code",
   "execution_count": null,
   "metadata": {},
   "outputs": [],
   "source": []
  },
  {
   "cell_type": "code",
   "execution_count": null,
   "metadata": {},
   "outputs": [],
   "source": []
  }
 ],
 "metadata": {
  "kernelspec": {
   "display_name": "Python 3",
   "language": "python",
   "name": "python3"
  },
  "language_info": {
   "codemirror_mode": {
    "name": "ipython",
    "version": 3
   },
   "file_extension": ".py",
   "mimetype": "text/x-python",
   "name": "python",
   "nbconvert_exporter": "python",
   "pygments_lexer": "ipython3",
   "version": "3.6.5"
  }
 },
 "nbformat": 4,
 "nbformat_minor": 2
}
