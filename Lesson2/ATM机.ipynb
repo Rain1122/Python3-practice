{
 "cells": [
  {
   "cell_type": "code",
   "execution_count": null,
   "metadata": {},
   "outputs": [],
   "source": [
    "select = 0\n",
    "while select!=4:\n",
    "    print(\"\")\n",
    "    print(\"==========\")\n",
    "    print(\"请选择操作\")\n",
    "    print(\"1.查询余额 \")\n",
    "    print(\"2.存款\")\n",
    "    print(\"3.取款\")\n",
    "    print(\"4.退出\")\n",
    "    print(\"==========\")\n",
    "    select = input()\n",
    "    try:\n",
    "        if int(select) == 1:\n",
    "            print(\"余额为：\", deposit)\n",
    "        elif int(select) == 2:\n",
    "            try:\n",
    "                deposittem = int(input(\"请输入存款金额：\"))\n",
    "                if deposittem <= 0:\n",
    "                    print(\"您输入的金额无效\")\n",
    "                else:\n",
    "                    deposit += deposittem\n",
    "            except:\n",
    "                print(\"只能存取整数\")\n",
    "        elif int(select) == 3:\n",
    "            try:\n",
    "                withdraw = int(input(\"请输入取款金额：\")) \n",
    "                if deposit - withdraw <0:\n",
    "                    print(\"余额不足！\")\n",
    "                elif withdraw <= 0:\n",
    "                    print(\"您输入的金额无效\")\n",
    "                else:\n",
    "                    deposit -= withdraw\n",
    "            except:\n",
    "                print(\"只能存取整数\")\n",
    "        elif int(select) == 4:\n",
    "            break\n",
    "        else:\n",
    "            print(\"输入错误！请输入1，2，3，4\")\n",
    "    except:\n",
    "        print(\"输入错误！请输入1，2，3，4\")\n",
    "print(\"已退出！\")"
   ]
  }
 ],
 "metadata": {
  "kernelspec": {
   "display_name": "Python 3",
   "language": "python",
   "name": "python3"
  },
  "language_info": {
   "codemirror_mode": {
    "name": "ipython",
    "version": 3
   },
   "file_extension": ".py",
   "mimetype": "text/x-python",
   "name": "python",
   "nbconvert_exporter": "python",
   "pygments_lexer": "ipython3",
   "version": "3.6.5"
  }
 },
 "nbformat": 4,
 "nbformat_minor": 2
}
