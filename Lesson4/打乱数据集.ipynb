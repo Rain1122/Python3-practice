{
 "cells": [
  {
   "cell_type": "code",
   "execution_count": 1,
   "metadata": {},
   "outputs": [
    {
     "name": "stdout",
     "output_type": "stream",
     "text": [
      "[['快递太慢了！' '差评']\n",
      " ['味道很不错！' '好评']\n",
      " ['很划算' '好评']\n",
      " ['不好吃' '差评']\n",
      " ['下次还来' '好评']\n",
      " ['特别难吃' '差评']\n",
      " ['要齁死我了' '差评']\n",
      " ['香' '好评']]\n"
     ]
    }
   ],
   "source": [
    "import numpy as np\n",
    "\n",
    "x = ['快递太慢了！','不好吃','特别难吃','要齁死我了','很划算','下次还来','味道很不错！','香']\n",
    "y = ['差评','差评','差评','差评','好评','好评','好评','好评']\n",
    "\n",
    "\n",
    "a = np.array([x,y]).transpose()\n",
    "np.random.shuffle(a)\n",
    "\n",
    "print(a)"
   ]
  },
  {
   "cell_type": "code",
   "execution_count": null,
   "metadata": {},
   "outputs": [],
   "source": []
  }
 ],
 "metadata": {
  "kernelspec": {
   "display_name": "Python 3",
   "language": "python",
   "name": "python3"
  },
  "language_info": {
   "codemirror_mode": {
    "name": "ipython",
    "version": 3
   },
   "file_extension": ".py",
   "mimetype": "text/x-python",
   "name": "python",
   "nbconvert_exporter": "python",
   "pygments_lexer": "ipython3",
   "version": "3.6.5"
  }
 },
 "nbformat": 4,
 "nbformat_minor": 2
}
