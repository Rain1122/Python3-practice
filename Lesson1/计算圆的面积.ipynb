{
 "cells": [
  {
   "cell_type": "code",
   "execution_count": null,
   "metadata": {},
   "outputs": [],
   "source": [
    "pi = 4\n",
    "i = 2\n",
    "while i < 5000000:  \n",
    "    if i%2==0:\n",
    "        pi -= (4/(i*2-1))\n",
    "    else:\n",
    "        pi += (4/(i*2-1))\n",
    "    i += 1\n",
    "r = input('请输入圆的半径： ')\n",
    "print(\"半径为: \"+ str(r)+' 圆的面积为: '+ str(pi*(int(r)**2)))"
   ]
  }
 ],
 "metadata": {
  "kernelspec": {
   "display_name": "Python 3",
   "language": "python",
   "name": "python3"
  },
  "language_info": {
   "codemirror_mode": {
    "name": "ipython",
    "version": 3
   },
   "file_extension": ".py",
   "mimetype": "text/x-python",
   "name": "python",
   "nbconvert_exporter": "python",
   "pygments_lexer": "ipython3",
   "version": "3.6.5"
  }
 },
 "nbformat": 4,
 "nbformat_minor": 2
}
