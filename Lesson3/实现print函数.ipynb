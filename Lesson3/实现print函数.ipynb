{
 "cells": [
  {
   "cell_type": "code",
   "execution_count": 4,
   "metadata": {},
   "outputs": [
    {
     "name": "stdout",
     "output_type": "stream",
     "text": [
      "this is a word\n",
      "this is a word\n",
      "this-is-a-word\n",
      "this-is-a-word-,-Yes.\n"
     ]
    }
   ],
   "source": [
    "def print_string(*words, **func):\n",
    "    for index, word in enumerate(words):\n",
    "        if index == 0:\n",
    "            sentence = word\n",
    "        elif len(func) > 0: \n",
    "            sentence += func['sep']+word\n",
    "        else:\n",
    "            sentence += ' ' + word\n",
    "    if len(func) > 1:\n",
    "        print(sentence+func['end'])\n",
    "    else:\n",
    "        print(sentence)\n",
    "    \n",
    "print_string('this is a word')\n",
    "print_string('this', 'is', 'a', 'word')\n",
    "print_string('this', 'is', 'a', 'word', sep = '-')\n",
    "print_string('this', 'is', 'a', 'word', ',', 'Yes', sep = '-', end = '.')"
   ]
  },
  {
   "cell_type": "code",
   "execution_count": null,
   "metadata": {},
   "outputs": [],
   "source": []
  }
 ],
 "metadata": {
  "kernelspec": {
   "display_name": "Python 3",
   "language": "python",
   "name": "python3"
  },
  "language_info": {
   "codemirror_mode": {
    "name": "ipython",
    "version": 3
   },
   "file_extension": ".py",
   "mimetype": "text/x-python",
   "name": "python",
   "nbconvert_exporter": "python",
   "pygments_lexer": "ipython3",
   "version": "3.6.5"
  }
 },
 "nbformat": 4,
 "nbformat_minor": 2
}
